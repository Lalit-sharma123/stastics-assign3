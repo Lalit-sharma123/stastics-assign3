{
  "nbformat": 4,
  "nbformat_minor": 0,
  "metadata": {
    "colab": {
      "provenance": []
    },
    "kernelspec": {
      "name": "python3",
      "display_name": "Python 3"
    },
    "language_info": {
      "name": "python"
    }
  },
  "cells": [
    {
      "cell_type": "markdown",
      "source": [
        "Question 1: Generate a list of 100 integers containing values between 90 to 130 and store it in the variable `int_list`.\n",
        "After generating the list, find the following:\n",
        "\n",
        "  \n",
        "\n",
        "  (i) Write a Python function to calculate the mean of a given list of numbers.\n",
        "\n",
        "Create a function to find the median of a list of numbers.\n",
        "\n",
        "  \n",
        "\n",
        "  (ii) Develop a program to compute the mode of a list of integers.\n",
        "\n",
        "  \n",
        "\n",
        "  (iii) Implement a function to calculate the weighted mean of a list of values and their corresponding weights.\n",
        "\n",
        "  \n",
        "\n",
        "  (iv) Write a Python function to find the geometric mean of a list of positive numbers.\n",
        "\n",
        "  \n",
        "\n",
        "  (v) Create a program to calculate the harmonic mean of a list of values.\n",
        "\n",
        "  \n",
        "\n",
        "  (vi) Build a function to determine the midrange of a list of numbers (average of the minimum and maximum).\n",
        "\n",
        "  \n",
        "\n",
        "  (vii) Implement a Python program to find the trimmed mean of a list, excluding a certain percentage of\n",
        "outliers."
      ],
      "metadata": {
        "id": "xODCiiiPZXdZ"
      }
    },
    {
      "cell_type": "code",
      "execution_count": 2,
      "metadata": {
        "id": "yigONa36ZNo5"
      },
      "outputs": [],
      "source": [
        "import random\n",
        "\n",
        "# generaye a list of 100 integers between 90 and 130\n",
        "\n",
        "int_list=[random.randint(90,130) for _ in range(100)]"
      ]
    },
    {
      "cell_type": "code",
      "source": [
        "def calculate_mean(numbers):\n",
        "    return sum(numbers) / len(numbers)\n",
        "\n",
        "# Example usage\n",
        "mean = calculate_mean(int_list)\n",
        "print(f\"Mean: {mean}\")\n"
      ],
      "metadata": {
        "colab": {
          "base_uri": "https://localhost:8080/"
        },
        "id": "Qyq2tTO4aYWi",
        "outputId": "d9c5355f-492b-4062-df38-56f43481232d"
      },
      "execution_count": 3,
      "outputs": [
        {
          "output_type": "stream",
          "name": "stdout",
          "text": [
            "Mean: 109.38\n"
          ]
        }
      ]
    },
    {
      "cell_type": "code",
      "source": [
        "def calculate_median(numbers):\n",
        "    sorted_numbers = sorted(numbers)\n",
        "    n = len(sorted_numbers)\n",
        "    middle = n // 2\n",
        "\n",
        "    if n % 2 == 0:\n",
        "        return (sorted_numbers[middle - 1] + sorted_numbers[middle]) / 2\n",
        "    else:\n",
        "        return sorted_numbers[middle]\n",
        "\n",
        "# Example usage\n",
        "median = calculate_median(int_list)\n",
        "print(f\"Median: {median}\")\n"
      ],
      "metadata": {
        "colab": {
          "base_uri": "https://localhost:8080/"
        },
        "id": "4j-V5L5HagxS",
        "outputId": "48bf8d0f-49a4-4f4e-c322-4a83d079167c"
      },
      "execution_count": 4,
      "outputs": [
        {
          "output_type": "stream",
          "name": "stdout",
          "text": [
            "Median: 109.0\n"
          ]
        }
      ]
    },
    {
      "cell_type": "code",
      "source": [
        "from collections import Counter\n",
        "\n",
        "def calculate_mode(numbers):\n",
        "    count = Counter(numbers)\n",
        "    max_count = max(count.values())\n",
        "    mode = [k for k, v in count.items() if v == max_count]\n",
        "\n",
        "    return mode\n",
        "\n",
        "# Example usage\n",
        "mode = calculate_mode(int_list)\n",
        "print(f\"Mode: {mode}\")\n"
      ],
      "metadata": {
        "colab": {
          "base_uri": "https://localhost:8080/"
        },
        "id": "IC2f3qS4a9DD",
        "outputId": "4e6697f6-f002-4108-ba62-6e3809ccae08"
      },
      "execution_count": 5,
      "outputs": [
        {
          "output_type": "stream",
          "name": "stdout",
          "text": [
            "Mode: [114, 97, 127, 99]\n"
          ]
        }
      ]
    },
    {
      "cell_type": "code",
      "source": [
        "def calculate_weighted_mean(values, weights):\n",
        "    weighted_sum = sum(v * w for v, w in zip(values, weights))\n",
        "    total_weight = sum(weights)\n",
        "    return weighted_sum / total_weight\n",
        "\n",
        "# Example usage\n",
        "weights = [random.uniform(0.1, 1.0) for _ in range(100)] # Example weights\n",
        "weighted_mean = calculate_weighted_mean(int_list, weights)\n",
        "print(f\"Weighted Mean: {weighted_mean}\")\n"
      ],
      "metadata": {
        "colab": {
          "base_uri": "https://localhost:8080/"
        },
        "id": "ukWrvVtha-vp",
        "outputId": "5f5a3898-89f3-437a-888d-925e8b8e59a1"
      },
      "execution_count": 6,
      "outputs": [
        {
          "output_type": "stream",
          "name": "stdout",
          "text": [
            "Weighted Mean: 109.91518924756662\n"
          ]
        }
      ]
    },
    {
      "cell_type": "code",
      "source": [
        "import math\n",
        "\n",
        "def calculate_geometric_mean(numbers):\n",
        "    product = math.prod(numbers)\n",
        "    return product ** (1 / len(numbers))\n",
        "\n",
        "# Example usage\n",
        "geometric_mean = calculate_geometric_mean([num for num in int_list if num > 0])\n",
        "print(f\"Geometric Mean: {geometric_mean}\")\n"
      ],
      "metadata": {
        "colab": {
          "base_uri": "https://localhost:8080/"
        },
        "id": "CyUnjpjtbBua",
        "outputId": "2e2a78eb-c88a-4e0f-8bd3-201461eca8a7"
      },
      "execution_count": 7,
      "outputs": [
        {
          "output_type": "stream",
          "name": "stdout",
          "text": [
            "Geometric Mean: 108.72560690618415\n"
          ]
        }
      ]
    },
    {
      "cell_type": "code",
      "source": [
        "def calculate_harmonic_mean(numbers):\n",
        "    return len(numbers) / sum(1 / num for num in numbers)\n",
        "\n",
        "# Example usage\n",
        "harmonic_mean = calculate_harmonic_mean(int_list)\n",
        "print(f\"Harmonic Mean: {harmonic_mean}\")\n"
      ],
      "metadata": {
        "colab": {
          "base_uri": "https://localhost:8080/"
        },
        "id": "fsjporQEbFKq",
        "outputId": "5622aad5-31fc-40d0-a3ad-a8cd3555824e"
      },
      "execution_count": 8,
      "outputs": [
        {
          "output_type": "stream",
          "name": "stdout",
          "text": [
            "Harmonic Mean: 108.07582012827663\n"
          ]
        }
      ]
    },
    {
      "cell_type": "code",
      "source": [
        "def calculate_midrange(numbers):\n",
        "    return (min(numbers) + max(numbers)) / 2\n",
        "\n",
        "# Example usage\n",
        "midrange = calculate_midrange(int_list)\n",
        "print(f\"Midrange: {midrange}\")\n"
      ],
      "metadata": {
        "colab": {
          "base_uri": "https://localhost:8080/"
        },
        "id": "2pYO9fNObHx5",
        "outputId": "519cb35c-3cbe-4f29-93ff-8f5e1158f836"
      },
      "execution_count": 9,
      "outputs": [
        {
          "output_type": "stream",
          "name": "stdout",
          "text": [
            "Midrange: 110.0\n"
          ]
        }
      ]
    },
    {
      "cell_type": "code",
      "source": [
        "from scipy import stats\n",
        "\n",
        "def calculate_trimmed_mean(numbers, proportion):\n",
        "    return stats.trim_mean(numbers, proportion)\n",
        "\n",
        "# Example usage\n",
        "trimmed_mean = calculate_trimmed_mean(int_list, 0.1) # Excluding 10% outliers\n",
        "print(f\"Trimmed Mean: {trimmed_mean}\")\n"
      ],
      "metadata": {
        "colab": {
          "base_uri": "https://localhost:8080/"
        },
        "id": "C09dOt9CbJr6",
        "outputId": "e6e43f70-d3b9-48c9-cd75-df76fb3b49bf"
      },
      "execution_count": 10,
      "outputs": [
        {
          "output_type": "stream",
          "name": "stdout",
          "text": [
            "Trimmed Mean: 109.1875\n"
          ]
        }
      ]
    },
    {
      "cell_type": "markdown",
      "source": [
        "Question 2:  Generate a list of 500 integers containing values between 200 to 300 and store it in the variable `int_list2`.\n",
        "After generating the list, find the following:\n",
        "\n",
        "\n",
        "  (i) Compare the given list of visualization for the given data:\n",
        "\n",
        "    \n",
        "\n",
        "    1. Frequency & Gaussian distribution\n",
        "\n",
        "    2. Frequency smoothened KDE plot\n",
        "\n",
        "    3. Gaussian distribution & smoothened KDE plot\n",
        "\n",
        "\n",
        "  (ii) Write a Python function to calculate the range of a given list of numbers.\n",
        "\n",
        "\n",
        "  (iii) Create a program to find the variance and standard deviation of a list of numbers.\n",
        "\n",
        "\n",
        "  (iv) Implement a function to compute the interquartile range (IQR) of a list of values.\n",
        "\n",
        "\n",
        "  (v) Build a program to calculate the coefficient of variation for a dataset.\n",
        "\n",
        "  \n",
        "\n",
        "  (vi) Write a Python function to find the mean absolute deviation (MAD) of a list of numbers.\n",
        "\n",
        "\n",
        "  (vii) Create a program to calculate the quartile deviation of a list of values.\n",
        "\n",
        "  \n",
        "\n",
        "  (viii) Implement a function to find the range-based coefficient of dispersion for a dataset"
      ],
      "metadata": {
        "id": "KhKxHt5xbOCO"
      }
    },
    {
      "cell_type": "code",
      "source": [
        "import random\n",
        "\n",
        "# Generate a list of 500 integers between 200 and 300\n",
        "int_list2 = [random.randint(200, 300) for _ in range(500)]\n"
      ],
      "metadata": {
        "id": "OIP9k1zjbLjZ"
      },
      "execution_count": 11,
      "outputs": []
    },
    {
      "cell_type": "code",
      "source": [
        "import matplotlib.pyplot as plt\n",
        "import numpy as np\n",
        "\n",
        "# Plot Frequency Histogram\n",
        "plt.hist(int_list2, bins=20, alpha=0.6, color='g', edgecolor='black')\n",
        "\n",
        "# Plot Gaussian Distribution\n",
        "mean = np.mean(int_list2)\n",
        "std_dev = np.std(int_list2)\n",
        "x = np.linspace(200, 300, 500)\n",
        "gaussian = (1/(std_dev * np.sqrt(2 * np.pi)))* np.exp(-0.5 * ((x - mean)/std_dev)**2)\n",
        "plt.plot(x, gaussian * 500 * np.diff(np.histogram(int_list2, bins=20)[1])[0], color='r', linewidth=2)\n",
        "\n",
        "plt.title('Frequency & Gaussian Distribution')\n",
        "plt.xlabel('Value')\n",
        "plt.ylabel('Frequency')\n",
        "plt.show()\n"
      ],
      "metadata": {
        "colab": {
          "base_uri": "https://localhost:8080/",
          "height": 472
        },
        "id": "udclvHgibfS6",
        "outputId": "46c52bad-7d5a-4bb5-b3d7-0426292a0a7c"
      },
      "execution_count": 12,
      "outputs": [
        {
          "output_type": "display_data",
          "data": {
            "text/plain": [
              "<Figure size 640x480 with 1 Axes>"
            ],
            "image/png": "[encoded data removed]"
          },
          "metadata": {}
        }
      ]
    },
    {
      "cell_type": "code",
      "source": [
        "import seaborn as sns\n",
        "\n",
        "# Plot Frequency Histogram with KDE\n",
        "sns.histplot(int_list2, bins=20, kde=True, color='b', edgecolor='black')\n",
        "plt.title('Frequency & KDE Plot')\n",
        "plt.xlabel('Value')\n",
        "plt.ylabel('Frequency')\n",
        "plt.show()\n"
      ],
      "metadata": {
        "colab": {
          "base_uri": "https://localhost:8080/",
          "height": 472
        },
        "id": "GW4V01u7bhOp",
        "outputId": "b39ef364-9e91-475c-ad0f-32c7e7f5cb27"
      },
      "execution_count": 13,
      "outputs": [
        {
          "data": {
            "image/png": "[encoded data removed]",
            "text/plain": [
              "<Figure size 640x480 with 1 Axes>"
            ]
          },
          "metadata": {},
          "output_type": "display_data"
        }
      ]
    },
    {
      "cell_type": "code",
      "source": [
        "# Plot Gaussian Distribution with KDE\n",
        "sns.kdeplot(int_list2, color='g', linewidth=2)\n",
        "plt.plot(x, gaussian, color='r', linestyle='--', linewidth=2)\n",
        "plt.title('Gaussian Distribution & KDE Plot')\n",
        "plt.xlabel('Value')\n",
        "plt.ylabel('Density')\n",
        "plt.show()\n"
      ],
      "metadata": {
        "colab": {
          "base_uri": "https://localhost:8080/",
          "height": 472
        },
        "id": "5L32UE0pbkZ5",
        "outputId": "1671e90e-0f45-459b-d497-30e96dd06632"
      },
      "execution_count": 14,
      "outputs": [
        {
          "output_type": "display_data",
          "data": {
            "text/plain": [
              "<Figure size 640x480 with 1 Axes>"
            ],
            "image/png": "[encoded data removed]"
          },
          "metadata": {}
        }
      ]
    },
    {
      "cell_type": "code",
      "source": [
        "def calculate_range(numbers):\n",
        "    return max(numbers) - min(numbers)\n",
        "\n",
        "# Example usage\n",
        "range_value = calculate_range(int_list2)\n",
        "print(f\"Range: {range_value}\")\n"
      ],
      "metadata": {
        "colab": {
          "base_uri": "https://localhost:8080/"
        },
        "id": "5sU6hRWSbrla",
        "outputId": "eb47990d-547a-4ef4-8b57-d0717370dc6b"
      },
      "execution_count": 15,
      "outputs": [
        {
          "output_type": "stream",
          "name": "stdout",
          "text": [
            "Range: 100\n"
          ]
        }
      ]
    },
    {
      "cell_type": "code",
      "source": [
        "def calculate_variance(numbers):\n",
        "    mean = np.mean(numbers)\n",
        "    return np.mean([(x - mean) ** 2 for x in numbers])\n",
        "\n",
        "def calculate_standard_deviation(numbers):\n",
        "    variance = calculate_variance(numbers)\n",
        "    return np.sqrt(variance)\n",
        "\n",
        "# Example usage\n",
        "variance = calculate_variance(int_list2)\n",
        "standard_deviation = calculate_standard_deviation(int_list2)\n",
        "print(f\"Variance: {variance}\")\n",
        "print(f\"Standard Deviation: {standard_deviation}\")\n"
      ],
      "metadata": {
        "colab": {
          "base_uri": "https://localhost:8080/"
        },
        "id": "Gu66m1Sbbsup",
        "outputId": "edad72cf-c238-42f5-f2cb-3f2ce47bb080"
      },
      "execution_count": 16,
      "outputs": [
        {
          "output_type": "stream",
          "name": "stdout",
          "text": [
            "Variance: 825.7428160000001\n",
            "Standard Deviation: 28.73574109014765\n"
          ]
        }
      ]
    },
    {
      "cell_type": "code",
      "source": [
        "def calculate_iqr(numbers):\n",
        "    q75, q25 = np.percentile(numbers, [75, 25])\n",
        "    return q75 - q25\n",
        "\n",
        "# Example usage\n",
        "iqr = calculate_iqr(int_list2)\n",
        "print(f\"IQR: {iqr}\")\n"
      ],
      "metadata": {
        "colab": {
          "base_uri": "https://localhost:8080/"
        },
        "id": "xHxZdgSkbv2I",
        "outputId": "47f24edc-8862-4abb-c536-ac1663bbb02f"
      },
      "execution_count": 17,
      "outputs": [
        {
          "output_type": "stream",
          "name": "stdout",
          "text": [
            "IQR: 51.0\n"
          ]
        }
      ]
    },
    {
      "cell_type": "code",
      "source": [
        "def calculate_coefficient_of_variation(numbers):\n",
        "    mean = np.mean(numbers)\n",
        "    std_dev = np.std(numbers)\n",
        "    return (std_dev / mean) * 100\n",
        "\n",
        "# Example usage\n",
        "cv = calculate_coefficient_of_variation(int_list2)\n",
        "print(f\"Coefficient of Variation: {cv}%\")\n"
      ],
      "metadata": {
        "colab": {
          "base_uri": "https://localhost:8080/"
        },
        "id": "r4xbm0x_byOB",
        "outputId": "143cd649-fd1d-409f-c8ef-1b4be02c4724"
      },
      "execution_count": 18,
      "outputs": [
        {
          "output_type": "stream",
          "name": "stdout",
          "text": [
            "Coefficient of Variation: 11.445219335548229%\n"
          ]
        }
      ]
    },
    {
      "cell_type": "code",
      "source": [
        "def calculate_mad(numbers):\n",
        "    mean = np.mean(numbers)\n",
        "    return np.mean([abs(x - mean) for x in numbers])\n",
        "\n",
        "# Example usage\n",
        "mad = calculate_mad(int_list2)\n",
        "print(f\"Mean Absolute Deviation (MAD): {mad}\")\n"
      ],
      "metadata": {
        "colab": {
          "base_uri": "https://localhost:8080/"
        },
        "id": "9Ow-CFsZb0Qx",
        "outputId": "1c3bba2b-e180-49cc-c954-36f449566fe1"
      },
      "execution_count": 19,
      "outputs": [
        {
          "output_type": "stream",
          "name": "stdout",
          "text": [
            "Mean Absolute Deviation (MAD): 24.962304\n"
          ]
        }
      ]
    },
    {
      "cell_type": "code",
      "source": [
        "def calculate_quartile_deviation(numbers):\n",
        "    q75, q25 = np.percentile(numbers, [75, 25])\n",
        "    return (q75 - q25) / 2\n",
        "\n",
        "# Example usage\n",
        "quartile_deviation = calculate_quartile_deviation(int_list2)\n",
        "print(f\"Quartile Deviation: {quartile_deviation}\")\n"
      ],
      "metadata": {
        "colab": {
          "base_uri": "https://localhost:8080/"
        },
        "id": "T-v8W1zub2RB",
        "outputId": "55a85f13-6d70-4aa9-e377-e582feb15a6e"
      },
      "execution_count": 20,
      "outputs": [
        {
          "output_type": "stream",
          "name": "stdout",
          "text": [
            "Quartile Deviation: 25.5\n"
          ]
        }
      ]
    },
    {
      "cell_type": "code",
      "source": [
        "def calculate_range_based_dispersion(numbers):\n",
        "    return (max(numbers) - min(numbers)) / (max(numbers) + min(numbers))\n",
        "\n",
        "# Example usage\n",
        "range_based_dispersion = calculate_range_based_dispersion(int_list2)\n",
        "print(f\"Range-Based Coefficient of Dispersion: {range_based_dispersion}\")\n"
      ],
      "metadata": {
        "colab": {
          "base_uri": "https://localhost:8080/"
        },
        "id": "jp5L_8web4RR",
        "outputId": "5d9227c4-787a-4cad-949b-e23ccd318a40"
      },
      "execution_count": 21,
      "outputs": [
        {
          "output_type": "stream",
          "name": "stdout",
          "text": [
            "Range-Based Coefficient of Dispersion: 0.2\n"
          ]
        }
      ]
    },
    {
      "cell_type": "markdown",
      "source": [
        "Question 3:  Write a Python class representing a discrete random variable with methods to calculate its expected\n",
        "value and variance."
      ],
      "metadata": {
        "id": "c4pmQhS3b8nH"
      }
    },
    {
      "cell_type": "code",
      "source": [
        "class DiscreteRandomVariable:\n",
        "    def __init__(self, values, probabilities):\n",
        "        \"\"\"\n",
        "        Initializes the random variable with given values and their corresponding probabilities.\n",
        "\n",
        "        :param values: List of possible values.\n",
        "        :param probabilities: List of probabilities corresponding to each value.\n",
        "        \"\"\"\n",
        "        if len(values) != len(probabilities):\n",
        "            raise ValueError(\"Values and probabilities must be of the same length.\")\n",
        "        if not all(0 <= p <= 1 for p in probabilities):\n",
        "            raise ValueError(\"Probabilities must be between 0 and 1.\")\n",
        "        if sum(probabilities) != 1:\n",
        "            raise ValueError(\"Probabilities must sum to 1.\")\n",
        "\n",
        "        self.values = values\n",
        "        self.probabilities = probabilities\n",
        "\n",
        "    def expected_value(self):\n",
        "        \"\"\"\n",
        "        Calculates the expected value (mean) of the random variable.\n",
        "\n",
        "        :return: Expected value.\n",
        "        \"\"\"\n",
        "        return sum(value * probability for value, probability in zip(self.values, self.probabilities))\n",
        "\n",
        "    def variance(self):\n",
        "        \"\"\"\n",
        "        Calculates the variance of the random variable.\n",
        "\n",
        "        :return: Variance.\n",
        "        \"\"\"\n",
        "        expected_value = self.expected_value()\n",
        "        return sum(probability * (value - expected_value) ** 2 for value, probability in zip(self.values, self.probabilities))\n",
        "\n",
        "# Example usage\n",
        "values = [1, 2, 3, 4, 5]\n",
        "probabilities = [0.1, 0.2, 0.3, 0.2, 0.2]\n",
        "rv = DiscreteRandomVariable(values, probabilities)\n",
        "\n",
        "print(f\"Expected Value: {rv.expected_value()}\")\n",
        "print(f\"Variance: {rv.variance()}\")\n"
      ],
      "metadata": {
        "colab": {
          "base_uri": "https://localhost:8080/"
        },
        "id": "NRevFPqib6qJ",
        "outputId": "bee47bb4-adb4-4879-b507-7a5a14b89b2b"
      },
      "execution_count": 22,
      "outputs": [
        {
          "output_type": "stream",
          "name": "stdout",
          "text": [
            "Expected Value: 3.2\n",
            "Variance: 1.56\n"
          ]
        }
      ]
    },
    {
      "cell_type": "markdown",
      "source": [
        "Question 4: Implement a program to simulate the rolling of a fair six-sided die and calculate the expected value and\n",
        "variance of the outcomes."
      ],
      "metadata": {
        "id": "LnYdixl6cLBY"
      }
    },
    {
      "cell_type": "code",
      "source": [
        "import random\n",
        "\n",
        "# Function to simulate rolling a six-sided die\n",
        "def roll_die(num_rolls):\n",
        "    return [random.randint(1, 6) for _ in range(num_rolls)]\n",
        "\n",
        "# Function to calculate the expected value\n",
        "def calculate_expected_value(outcomes):\n",
        "    return sum(outcomes) / len(outcomes)\n",
        "\n",
        "# Function to calculate the variance\n",
        "def calculate_variance(outcomes, expected_value):\n",
        "    return sum((x - expected_value) ** 2 for x in outcomes) / len(outcomes)\n",
        "\n",
        "# Simulate rolling the die 10,000 times\n",
        "num_rolls = 10000\n",
        "outcomes = roll_die(num_rolls)\n",
        "\n",
        "# Calculate expected value and variance\n",
        "expected_value = calculate_expected_value(outcomes)\n",
        "variance = calculate_variance(outcomes, expected_value)\n",
        "\n",
        "print(f\"Expected Value: {expected_value}\")\n",
        "print(f\"Variance: {variance}\")\n"
      ],
      "metadata": {
        "colab": {
          "base_uri": "https://localhost:8080/"
        },
        "id": "E_q7vWY8cIsY",
        "outputId": "681725ef-c3bc-4dd5-851a-f03a5fad6817"
      },
      "execution_count": 23,
      "outputs": [
        {
          "output_type": "stream",
          "name": "stdout",
          "text": [
            "Expected Value: 3.4783\n",
            "Variance: 2.9199291100000813\n"
          ]
        }
      ]
    },
    {
      "cell_type": "markdown",
      "source": [
        "Question 5:) Create a Python function to generate random samples from a given probability distribution (e.g.,\n",
        "binomial, Poisson) and calculate their mean and variance."
      ],
      "metadata": {
        "id": "xDDCblzgcaSv"
      }
    },
    {
      "cell_type": "code",
      "source": [
        "import numpy as np\n",
        "\n",
        "def binomial_samples(n, p, size):\n",
        "    \"\"\"\n",
        "    Generate random samples from a binomial distribution.\n",
        "\n",
        "    :param n: Number of trials.\n",
        "    :param p: Probability of success on each trial.\n",
        "    :param size: Number of samples to generate.\n",
        "    :return: Mean and variance of the samples.\n",
        "    \"\"\"\n",
        "    samples = np.random.binomial(n, p, size)\n",
        "    mean = np.mean(samples)\n",
        "    variance = np.var(samples)\n",
        "\n",
        "    return samples, mean, variance\n",
        "\n",
        "# Example usage\n",
        "n = 10\n",
        "p = 0.5\n",
        "size = 1000\n",
        "samples, mean, variance = binomial_samples(n, p, size)\n",
        "print(f\"Binomial Samples Mean: {mean}\")\n",
        "print(f\"Binomial Samples Variance: {variance}\")\n"
      ],
      "metadata": {
        "colab": {
          "base_uri": "https://localhost:8080/"
        },
        "id": "cJ2lfXphcZTB",
        "outputId": "12cc87c7-d21f-46bc-fed9-35f06d36c14a"
      },
      "execution_count": 24,
      "outputs": [
        {
          "output_type": "stream",
          "name": "stdout",
          "text": [
            "Binomial Samples Mean: 5.023\n",
            "Binomial Samples Variance: 2.4524710000000005\n"
          ]
        }
      ]
    },
    {
      "cell_type": "code",
      "source": [
        "def poisson_samples(lam, size):\n",
        "    \"\"\"\n",
        "    Generate random samples from a Poisson distribution.\n",
        "\n",
        "    :param lam: Rate (lambda) parameter of the distribution.\n",
        "    :param size: Number of samples to generate.\n",
        "    :return: Mean and variance of the samples.\n",
        "    \"\"\"\n",
        "    samples = np.random.poisson(lam, size)\n",
        "    mean = np.mean(samples)\n",
        "    variance = np.var(samples)\n",
        "\n",
        "    return samples, mean, variance\n",
        "\n",
        "# Example usage\n",
        "lam = 4\n",
        "size = 1000\n",
        "samples, mean, variance = poisson_samples(lam, size)\n",
        "print(f\"Poisson Samples Mean: {mean}\")\n",
        "print(f\"Poisson Samples Variance: {variance}\")\n"
      ],
      "metadata": {
        "colab": {
          "base_uri": "https://localhost:8080/"
        },
        "id": "K75U75KxcqGM",
        "outputId": "2f0164f5-4a5f-489b-d9ed-082055c2c10d"
      },
      "execution_count": 25,
      "outputs": [
        {
          "output_type": "stream",
          "name": "stdout",
          "text": [
            "Poisson Samples Mean: 4.091\n",
            "Poisson Samples Variance: 4.3367189999999995\n"
          ]
        }
      ]
    },
    {
      "cell_type": "markdown",
      "source": [
        "Question 6:Write a Python script to generate random numbers from a Gaussian (normal) distribution and compute\n",
        "the mean, variance, and standard deviation of the samples.\n"
      ],
      "metadata": {
        "id": "OKiDSO9-ctUm"
      }
    },
    {
      "cell_type": "code",
      "source": [
        "import numpy as np\n",
        "\n",
        "# Function to generate random numbers from a Gaussian distribution\n",
        "def generate_gaussian_samples(mean, std_dev, size):\n",
        "    \"\"\"\n",
        "    Generates random samples from a Gaussian distribution.\n",
        "\n",
        "    :param mean: Mean of the distribution.\n",
        "    :param std_dev: Standard deviation of the distribution.\n",
        "    :param size: Number of samples to generate.\n",
        "    :return: Array of samples.\n",
        "    \"\"\"\n",
        "    samples = np.random.normal(mean, std_dev, size)\n",
        "    return samples\n",
        "\n",
        "# Function to compute mean, variance, and standard deviation\n",
        "def compute_statistics(samples):\n",
        "    \"\"\"\n",
        "    Computes the mean, variance, and standard deviation of the samples.\n",
        "\n",
        "    :param samples: Array of samples.\n",
        "    :return: Mean, variance, and standard deviation.\n",
        "    \"\"\"\n",
        "    mean = np.mean(samples)\n",
        "    variance = np.var(samples)\n",
        "    std_dev = np.std(samples)\n",
        "    return mean, variance, std_dev\n",
        "\n",
        "# Parameters for the Gaussian distribution\n",
        "mean = 0\n",
        "std_dev = 1\n",
        "sample_size = 1000\n",
        "\n",
        "# Generate samples\n",
        "samples = generate_gaussian_samples(mean, std_dev, sample_size)\n",
        "\n",
        "# Compute statistics\n",
        "mean, variance, std_dev = compute_statistics(samples)\n",
        "\n",
        "# Output the results\n",
        "print(f\"Mean: {mean}\")\n",
        "print(f\"Variance: {variance}\")\n",
        "print(f\"Standard Deviation: {std_dev}\")\n"
      ],
      "metadata": {
        "colab": {
          "base_uri": "https://localhost:8080/"
        },
        "id": "2tDCRnE6csDY",
        "outputId": "bd0afbb3-78c2-4619-9e37-687fb407cfcf"
      },
      "execution_count": 26,
      "outputs": [
        {
          "output_type": "stream",
          "name": "stdout",
          "text": [
            "Mean: 0.0625358766250918\n",
            "Variance: 1.122007922549483\n",
            "Standard Deviation: 1.0592487538578854\n"
          ]
        }
      ]
    },
    {
      "cell_type": "markdown",
      "source": [
        "Question 7: Use seaborn library to load tips dataset. Find the following from the dataset for the columns total_bill\n",
        "and tip`:\n",
        "\n",
        "  \n",
        "\n",
        "  (i) Write a Python function that calculates their skewness.\n",
        "\n",
        "\n",
        "  (ii) Create a program that determines whether the columns exhibit positive skewness, negative skewness, or is\n",
        "approximately symmetric.\n",
        "\n",
        "\n",
        "  (iii) Write a function that calculates the covariance between two columns.\n",
        "\n",
        "\n",
        "  (iv) Implement a Python program that calculates the Pearson correlation coefficient between two columns.\n",
        "\n",
        "\n",
        "  (v) Write a script to visualize the correlation between two specific columns in a Pandas DataFrame using\n",
        "scatter plots."
      ],
      "metadata": {
        "id": "-4L9_p6ic7NP"
      }
    },
    {
      "cell_type": "code",
      "source": [
        "import seaborn as sns\n",
        "import pandas as pd\n",
        "\n",
        "# Load the tips dataset\n",
        "tips = sns.load_dataset(\"tips\")\n"
      ],
      "metadata": {
        "id": "ILv3KBDIc4oJ"
      },
      "execution_count": 27,
      "outputs": []
    },
    {
      "cell_type": "code",
      "source": [
        "from scipy.stats import skew\n",
        "\n",
        "def calculate_skewness(column):\n",
        "    \"\"\"\n",
        "    Calculate the skewness of a given column.\n",
        "\n",
        "    :param column: Pandas Series.\n",
        "    :return: Skewness of the column.\n",
        "    \"\"\"\n",
        "    return skew(column)\n",
        "\n",
        "# Example usage\n",
        "total_bill_skewness = calculate_skewness(tips['total_bill'])\n",
        "tip_skewness = calculate_skewness(tips['tip'])\n",
        "print(f\"Skewness of total_bill: {total_bill_skewness}\")\n",
        "print(f\"Skewness of tip: {tip_skewness}\")\n"
      ],
      "metadata": {
        "colab": {
          "base_uri": "https://localhost:8080/"
        },
        "id": "-FnsYnnGdEEA",
        "outputId": "301ea297-10ec-4b9b-dcac-0fa88c28efaa"
      },
      "execution_count": 28,
      "outputs": [
        {
          "output_type": "stream",
          "name": "stdout",
          "text": [
            "Skewness of total_bill: 1.1262346334818638\n",
            "Skewness of tip: 1.4564266884221506\n"
          ]
        }
      ]
    },
    {
      "cell_type": "code",
      "source": [
        "def skewness_type(skewness_value):\n",
        "    \"\"\"\n",
        "    Determine the type of skewness.\n",
        "\n",
        "    :param skewness_value: Skewness value.\n",
        "    :return: Type of skewness.\n",
        "    \"\"\"\n",
        "    if skewness_value > 0:\n",
        "        return \"positive skewness\"\n",
        "    elif skewness_value < 0:\n",
        "        return \"negative skewness\"\n",
        "    else:\n",
        "        return \"approximately symmetric\"\n",
        "\n",
        "# Example usage\n",
        "total_bill_skewness_type = skewness_type(total_bill_skewness)\n",
        "tip_skewness_type = skewness_type(tip_skewness)\n",
        "print(f\"Total_bill skewness type: {total_bill_skewness_type}\")\n",
        "print(f\"Tip skewness type: {tip_skewness_type}\")\n"
      ],
      "metadata": {
        "colab": {
          "base_uri": "https://localhost:8080/"
        },
        "id": "-037_PHCdFkP",
        "outputId": "3e8a81f3-4ed6-4286-93b7-d38ca4506786"
      },
      "execution_count": 29,
      "outputs": [
        {
          "output_type": "stream",
          "name": "stdout",
          "text": [
            "Total_bill skewness type: positive skewness\n",
            "Tip skewness type: positive skewness\n"
          ]
        }
      ]
    },
    {
      "cell_type": "code",
      "source": [
        "def calculate_covariance(df, col1, col2):\n",
        "    \"\"\"\n",
        "    Calculate the covariance between two columns.\n",
        "\n",
        "    :param df: DataFrame.\n",
        "    :param col1: First column.\n",
        "    :param col2: Second column.\n",
        "    :return: Covariance between the columns.\n",
        "    \"\"\"\n",
        "    return df[[col1, col2]].cov().iloc[0, 1]\n",
        "\n",
        "# Example usage\n",
        "covariance = calculate_covariance(tips, 'total_bill', 'tip')\n",
        "print(f\"Covariance between total_bill and tip: {covariance}\")\n"
      ],
      "metadata": {
        "colab": {
          "base_uri": "https://localhost:8080/"
        },
        "id": "zjw_z5tYdIAY",
        "outputId": "60609f17-8deb-45e2-dc77-2bd6b667d578"
      },
      "execution_count": 30,
      "outputs": [
        {
          "output_type": "stream",
          "name": "stdout",
          "text": [
            "Covariance between total_bill and tip: 8.323501629224854\n"
          ]
        }
      ]
    },
    {
      "cell_type": "code",
      "source": [
        "def calculate_pearson_correlation(df, col1, col2):\n",
        "    \"\"\"\n",
        "    Calculate the Pearson correlation coefficient between two columns.\n",
        "\n",
        "    :param df: DataFrame.\n",
        "    :param col1: First column.\n",
        "    :param col2: Second column.\n",
        "    :return: Pearson correlation coefficient between the columns.\n",
        "    \"\"\"\n",
        "    return df[[col1, col2]].corr().iloc[0, 1]\n",
        "\n",
        "# Example usage\n",
        "pearson_correlation = calculate_pearson_correlation(tips, 'total_bill', 'tip')\n",
        "print(f\"Pearson correlation coefficient between total_bill and tip: {pearson_correlation}\")\n"
      ],
      "metadata": {
        "colab": {
          "base_uri": "https://localhost:8080/"
        },
        "id": "DLLUyw_cdK04",
        "outputId": "965941d8-795e-4ea6-8deb-03667f46acd3"
      },
      "execution_count": 31,
      "outputs": [
        {
          "output_type": "stream",
          "name": "stdout",
          "text": [
            "Pearson correlation coefficient between total_bill and tip: 0.6757341092113648\n"
          ]
        }
      ]
    },
    {
      "cell_type": "code",
      "source": [
        "import matplotlib.pyplot as plt\n",
        "\n",
        "def visualize_correlation(df, col1, col2):\n",
        "    \"\"\"\n",
        "    Visualize the correlation between two columns using a scatter plot.\n",
        "\n",
        "    :param df: DataFrame.\n",
        "    :param col1: First column.\n",
        "    :param col2: Second column.\n",
        "    \"\"\"\n",
        "    plt.figure(figsize=(8, 6))\n",
        "    plt.scatter(df[col1], df[col2], alpha=0.5)\n",
        "    plt.title(f\"Scatter Plot of {col1} vs {col2}\")\n",
        "    plt.xlabel(col1)\n",
        "    plt.ylabel(col2)\n",
        "    plt.show()\n",
        "\n",
        "# Example usage\n",
        "visualize_correlation(tips, 'total_bill', 'tip')\n"
      ],
      "metadata": {
        "colab": {
          "base_uri": "https://localhost:8080/",
          "height": 564
        },
        "id": "BB4KiZ3kdM4_",
        "outputId": "882ccb44-991f-4c7d-b4e4-bae0bb5de6b5"
      },
      "execution_count": 32,
      "outputs": [
        {
          "output_type": "display_data",
          "data": {
            "text/plain": [
              "<Figure size 800x600 with 1 Axes>"
            ],
            "image/png": "[encoded data removed]"
          },
          "metadata": {}
        }
      ]
    },
    {
      "cell_type": "markdown",
      "source": [
        "Question 8: Write a Python function to calculate the probability density function (PDF) of a continuous random\n",
        "variable for a given normal distribution.\n"
      ],
      "metadata": {
        "id": "7c3XfqfFdROW"
      }
    },
    {
      "cell_type": "code",
      "source": [
        "import math\n",
        "\n",
        "def normal_pdf(x, mean, std_dev):\n",
        "    \"\"\"\n",
        "    Calculate the PDF of a normal distribution at a given value x.\n",
        "\n",
        "    :param x: The value at which to evaluate the PDF.\n",
        "    :param mean: The mean (mu) of the normal distribution.\n",
        "    :param std_dev: The standard deviation (sigma) of the normal distribution.\n",
        "    :return: The probability density function value at x.\n",
        "    \"\"\"\n",
        "    coefficient = 1 / (std_dev * math.sqrt(2 * math.pi))\n",
        "    exponent = math.exp(-((x - mean) ** 2) / (2 * std_dev ** 2))\n",
        "    return coefficient * exponent\n",
        "\n",
        "# Example usage\n",
        "mean = 0\n",
        "std_dev = 1\n",
        "x_value = 0\n",
        "pdf_value = normal_pdf(x_value, mean, std_dev)\n",
        "print(f\"PDF at x = {x_value}: {pdf_value}\")\n"
      ],
      "metadata": {
        "colab": {
          "base_uri": "https://localhost:8080/"
        },
        "id": "LIOmpS9IdOfn",
        "outputId": "2a7dc195-200b-47f6-8955-5e75edb6d370"
      },
      "execution_count": 33,
      "outputs": [
        {
          "output_type": "stream",
          "name": "stdout",
          "text": [
            "PDF at x = 0: 0.3989422804014327\n"
          ]
        }
      ]
    },
    {
      "cell_type": "markdown",
      "source": [
        "Question 9: Create a program to calculate the cumulative distribution function (CDF) of exponential distribution"
      ],
      "metadata": {
        "id": "jWDgsu-fdn21"
      }
    },
    {
      "cell_type": "code",
      "source": [
        "import math\n",
        "\n",
        "def exponential_cdf(x, rate):\n",
        "    \"\"\"\n",
        "    Calculate the CDF of an exponential distribution at a given value x.\n",
        "\n",
        "    :param x: The value at which to evaluate the CDF.\n",
        "    :param rate: The rate parameter (lambda) of the exponential distribution.\n",
        "    :return: The cumulative distribution function value at x.\n",
        "    \"\"\"\n",
        "    if x < 0:\n",
        "        return 0\n",
        "    return 1 - math.exp(-rate * x)\n",
        "\n",
        "# Example usage\n",
        "rate = 0.5  # Example rate parameter (lambda)\n",
        "x_value = 2\n",
        "cdf_value = exponential_cdf(x_value, rate)\n",
        "print(f\"CDF at x = {x_value}: {cdf_value}\")\n"
      ],
      "metadata": {
        "colab": {
          "base_uri": "https://localhost:8080/"
        },
        "id": "8X5okrdJdm3I",
        "outputId": "4c40603e-864a-4276-8aae-f4bad848493f"
      },
      "execution_count": 34,
      "outputs": [
        {
          "output_type": "stream",
          "name": "stdout",
          "text": [
            "CDF at x = 2: 0.6321205588285577\n"
          ]
        }
      ]
    },
    {
      "cell_type": "markdown",
      "source": [
        "Question 10: Write a Python function to calculate the probability mass function (PMF) of Poisson distribution"
      ],
      "metadata": {
        "id": "yzkBg52Fdzfe"
      }
    },
    {
      "cell_type": "code",
      "source": [
        "import math\n",
        "\n",
        "def poisson_pmf(k, lam):\n",
        "    \"\"\"\n",
        "    Calculate the PMF of a Poisson distribution at a given value k.\n",
        "\n",
        "    :param k: The number of occurrences.\n",
        "    :param lam: The rate parameter (lambda) of the Poisson distribution.\n",
        "    :return: The probability mass function value at k.\n",
        "    \"\"\"\n",
        "    return (lam ** k) * math.exp(-lam) / math.factorial(k)\n",
        "\n",
        "# Example usage\n",
        "lam = 4  # Example rate parameter (lambda)\n",
        "k_value = 2\n",
        "pmf_value = poisson_pmf(k_value, lam)\n",
        "print(f\"PMF at k = {k_value}: {pmf_value}\")\n"
      ],
      "metadata": {
        "colab": {
          "base_uri": "https://localhost:8080/"
        },
        "id": "gRXBg_m2dxpY",
        "outputId": "3b7949eb-28ed-4024-b97d-82ece09fb635"
      },
      "execution_count": 35,
      "outputs": [
        {
          "output_type": "stream",
          "name": "stdout",
          "text": [
            "PMF at k = 2: 0.14652511110987343\n"
          ]
        }
      ]
    },
    {
      "cell_type": "markdown",
      "source": [
        "Question 11: A company wants to test if a new website layout leads to a higher conversion rate (percentage of visitors\n",
        "who make a purchase). They collect data from the old and new layouts to compare.\n",
        "\n",
        "\n",
        "To generate the data use the following command:\n",
        "\n",
        "```python\n",
        "\n",
        "import numpy as np\n",
        "\n",
        "# 50 purchases out of 1000 visitors\n",
        "\n",
        "old_layout = np.array([1] * 50 + [0] * 950)\n",
        "\n",
        "# 70 purchases out of 1000 visitors  \n",
        "\n",
        "new_layout = np.array([1] * 70 + [0] * 930)\n",
        "\n",
        "  ```\n",
        "\n",
        "Apply z-test to find which layout is successful"
      ],
      "metadata": {
        "id": "iYqC4s05eK8O"
      }
    },
    {
      "cell_type": "code",
      "source": [
        "import numpy as np\n",
        "from statsmodels.stats.proportion import proportions_ztest\n",
        "\n",
        "# Generate the data\n",
        "old_layout = np.array([1] * 50 + [0] * 950)\n",
        "new_layout = np.array([1] * 70 + [0] * 930)\n",
        "\n",
        "# Number of successes and trials\n",
        "successes = np.array([np.sum(old_layout), np.sum(new_layout)])\n",
        "trials = np.array([len(old_layout), len(new_layout)])\n",
        "\n",
        "# Perform the z-test\n",
        "z_stat, p_value = proportions_ztest(successes, trials, alternative='larger')\n",
        "\n",
        "print(f\"Z-Statistic: {z_stat}\")\n",
        "print(f\"P-Value: {p_value}\")\n",
        "\n",
        "# Determine which layout is more successful\n",
        "alpha = 0.05\n",
        "if p_value < alpha:\n",
        "    print(\"Reject the null hypothesis: The new layout leads to a higher conversion rate.\")\n",
        "else:\n",
        "    print(\"Fail to reject the null hypothesis: There is no significant difference in conversion rates.\")\n"
      ],
      "metadata": {
        "colab": {
          "base_uri": "https://localhost:8080/"
        },
        "id": "BkGkNe8NeHwY",
        "outputId": "180753c5-b891-4c08-cbba-d9ac1dccd48d"
      },
      "execution_count": 36,
      "outputs": [
        {
          "output_type": "stream",
          "name": "stdout",
          "text": [
            "Z-Statistic: -1.883108942886774\n",
            "P-Value: 0.9701571972337869\n",
            "Fail to reject the null hypothesis: There is no significant difference in conversion rates.\n"
          ]
        }
      ]
    },
    {
      "cell_type": "markdown",
      "source": [
        "Question 12: M A tutoring service claims that its program improves students' exam scores. A sample of students who\n",
        "participated in the program was taken, and their scores before and after the program were recorded.\n",
        "\n",
        "\n",
        "Use the below code to generate samples of respective arrays of marks:\n",
        "\n",
        "```python\n",
        "\n",
        "before_program = np.array([75, 80, 85, 70, 90, 78, 92, 88, 82, 87])\n",
        "\n",
        "after_program = np.array([80, 85, 90, 80, 92, 80, 95, 90, 85, 88])\n",
        "\n",
        "```\n",
        "\n",
        "Use z-test to find if the claims made by tutor are true or false."
      ],
      "metadata": {
        "id": "8AylloBbeczM"
      }
    },
    {
      "cell_type": "code",
      "source": [
        "import numpy as np\n",
        "from scipy import stats\n",
        "\n",
        "# Given data\n",
        "before_program = np.array([75, 80, 85, 70, 90, 78, 92, 88, 82, 87])\n",
        "after_program = np.array([80, 85, 90, 80, 92, 80, 95, 90, 85, 88])\n",
        "\n",
        "# Calculate the differences\n",
        "differences = after_program - before_program\n",
        "\n",
        "# Calculate the mean and standard deviation of differences\n",
        "mean_diff = np.mean(differences)\n",
        "std_diff = np.std(differences, ddof=1)\n",
        "\n",
        "# Number of observations\n",
        "n = len(differences)\n",
        "\n",
        "# Calculate the Z-Score\n",
        "z_score = mean_diff / (std_diff / np.sqrt(n))\n",
        "\n",
        "# Calculate the P-Value (one-tailed test)\n",
        "p_value = 1 - stats.norm.cdf(z_score)\n",
        "\n",
        "print(f\"Mean Difference: {mean_diff}\")\n",
        "print(f\"Standard Deviation of Differences: {std_diff}\")\n",
        "print(f\"Z-Score: {z_score}\")\n",
        "print(f\"P-Value: {p_value}\")\n",
        "\n",
        "# Determine the result\n",
        "alpha = 0.05\n",
        "if p_value < alpha:\n",
        "    print(\"Reject the null hypothesis: The tutoring program significantly improves students' exam scores.\")\n",
        "else:\n",
        "    print(\"Fail to reject the null hypothesis: The tutoring program does not significantly improve students' exam scores.\")\n"
      ],
      "metadata": {
        "colab": {
          "base_uri": "https://localhost:8080/"
        },
        "id": "1Gt5ya6AeYc3",
        "outputId": "93861941-4939-4316-ad5f-701e6a8ea124"
      },
      "execution_count": 37,
      "outputs": [
        {
          "output_type": "stream",
          "name": "stdout",
          "text": [
            "Mean Difference: 3.8\n",
            "Standard Deviation of Differences: 2.616188916046478\n",
            "Z-Score: 4.593190894944668\n",
            "P-Value: 2.182597052646784e-06\n",
            "Reject the null hypothesis: The tutoring program significantly improves students' exam scores.\n"
          ]
        }
      ]
    },
    {
      "cell_type": "markdown",
      "source": [
        "Question 13: A pharmaceutical company wants to determine if a new drug is effective in reducing blood pressure. They\n",
        "conduct a study and record blood pressure measurements before and after administering the drug.\n",
        "\n",
        "\n",
        "Use the below code to generate samples of respective arrays of blood pressure:\n",
        "\n",
        "\n",
        "```python\n",
        "\n",
        "before_drug = np.array([145, 150, 140, 135, 155, 160, 152, 148, 130, 138])\n",
        "\n",
        "after_drug = np.array([130, 140, 132, 128, 145, 148, 138, 136, 125, 130])\n",
        "\n",
        "  ```\n",
        "\n",
        "\n",
        "Implement z-test to find if the drug really works or not."
      ],
      "metadata": {
        "id": "CqzFiFm9e0F0"
      }
    },
    {
      "cell_type": "code",
      "source": [
        "import numpy as np\n",
        "from scipy import stats\n",
        "\n",
        "# Given data\n",
        "before_drug = np.array([145, 150, 140, 135, 155, 160, 152, 148, 130, 138])\n",
        "after_drug = np.array([130, 140, 132, 128, 145, 148, 138, 136, 125, 130])\n",
        "\n",
        "# Calculate the differences\n",
        "differences = before_drug - after_drug\n",
        "\n",
        "# Calculate the mean and standard deviation of differences\n",
        "mean_diff = np.mean(differences)\n",
        "std_diff = np.std(differences, ddof=1)\n",
        "\n",
        "# Number of observations\n",
        "n = len(differences)\n",
        "\n",
        "# Calculate the Z-Score\n",
        "z_score = mean_diff / (std_diff / np.sqrt(n))\n",
        "\n",
        "# Calculate the P-Value (one-tailed test)\n",
        "p_value = stats.norm.cdf(z_score)\n",
        "\n",
        "print(f\"Mean Difference: {mean_diff}\")\n",
        "print(f\"Standard Deviation of Differences: {std_diff}\")\n",
        "print(f\"Z-Score: {z_score}\")\n",
        "print(f\"P-Value: {p_value}\")\n",
        "\n",
        "# Determine the result\n",
        "alpha = 0.05\n",
        "if p_value < alpha:\n",
        "    print(\"Reject the null hypothesis: The drug significantly reduces blood pressure.\")\n",
        "else:\n",
        "    print(\"Fail to reject the null hypothesis: The drug does not significantly reduce blood pressure.\")\n"
      ],
      "metadata": {
        "colab": {
          "base_uri": "https://localhost:8080/"
        },
        "id": "UUAg_d-LeyPm",
        "outputId": "698e0199-acd3-4bbb-8532-7a5501db459c"
      },
      "execution_count": 38,
      "outputs": [
        {
          "output_type": "stream",
          "name": "stdout",
          "text": [
            "Mean Difference: 10.1\n",
            "Standard Deviation of Differences: 3.178049716414141\n",
            "Z-Score: 10.049875621120888\n",
            "P-Value: 1.0\n",
            "Fail to reject the null hypothesis: The drug does not significantly reduce blood pressure.\n"
          ]
        }
      ]
    },
    {
      "cell_type": "markdown",
      "source": [
        "Question 14: A customer service department claims that their average response time is less than 5 minutes. A sample\n",
        "of recent customer interactions was taken, and the response times were recorded.\n",
        "\n",
        "\n",
        "Implement the below code to generate the array of response time:\n",
        "\n",
        "```python\n",
        "\n",
        "response_times = np.array([4.3, 3.8, 5.1, 4.9, 4.7, 4.2, 5.2, 4.5, 4.6, 4.4])\n",
        "\n",
        "```\n",
        "\n",
        "Implement z-test to find the claims made by customer service department are tru or false."
      ],
      "metadata": {
        "id": "8u1CgRC-fD1s"
      }
    },
    {
      "cell_type": "code",
      "source": [
        "import numpy as np\n",
        "from scipy import stats\n",
        "\n",
        "# Given data\n",
        "response_times = np.array([4.3, 3.8, 5.1, 4.9, 4.7, 4.2, 5.2, 4.5, 4.6, 4.4])\n",
        "\n",
        "# Hypothesized mean response time\n",
        "mu = 5\n",
        "\n",
        "# Sample mean and standard deviation\n",
        "sample_mean = np.mean(response_times)\n",
        "sample_std = np.std(response_times, ddof=1)\n",
        "\n",
        "# Number of observations\n",
        "n = len(response_times)\n",
        "\n",
        "# Calculate the Z-Score\n",
        "z_score = (sample_mean - mu) / (sample_std / np.sqrt(n))\n",
        "\n",
        "# Calculate the P-Value (one-tailed test)\n",
        "p_value = stats.norm.cdf(z_score)\n",
        "\n",
        "print(f\"Sample Mean: {sample_mean}\")\n",
        "print(f\"Sample Standard Deviation: {sample_std}\")\n",
        "print(f\"Z-Score: {z_score}\")\n",
        "print(f\"P-Value: {p_value}\")\n",
        "\n",
        "# Determine the result\n",
        "alpha = 0.05\n",
        "if p_value < alpha:\n",
        "    print(\"Reject the null hypothesis: The average response time is significantly less than 5 minutes.\")\n",
        "else:\n",
        "    print(\"Fail to reject the null hypothesis: The average response time is not significantly less than 5 minutes.\")\n"
      ],
      "metadata": {
        "colab": {
          "base_uri": "https://localhost:8080/"
        },
        "id": "YfGPCQSofCYu",
        "outputId": "934ded15-66f1-41e5-db09-ef23c0a0cef0"
      },
      "execution_count": 39,
      "outputs": [
        {
          "output_type": "stream",
          "name": "stdout",
          "text": [
            "Sample Mean: 4.57\n",
            "Sample Standard Deviation: 0.4270050741306634\n",
            "Z-Score: -3.184457226042963\n",
            "P-Value: 0.0007251287113068958\n",
            "Reject the null hypothesis: The average response time is significantly less than 5 minutes.\n"
          ]
        }
      ]
    },
    {
      "cell_type": "markdown",
      "source": [
        "Question 15: A company is testing two different website layouts to see which one leads to higher click-through rates.\n",
        "Write a Python function to perform an A/B test analysis, including calculating the t-statistic, degrees of\n",
        "freedom, and p-value.\n",
        "\n",
        "\n",
        "Use the following data:\n",
        "\n",
        "```python\n",
        "\n",
        "layout_a_clicks = [28, 32, 33, 29, 31, 34, 30, 35, 36, 37]\n",
        "\n",
        "layout_b_clicks = [40, 41, 38, 42, 39, 44, 43, 41, 45, 47]"
      ],
      "metadata": {
        "id": "4Tb0jqZEfPOc"
      }
    },
    {
      "cell_type": "code",
      "source": [
        "import numpy as np\n",
        "from scipy import stats\n",
        "\n",
        "# Given data\n",
        "layout_a_clicks = [28, 32, 33, 29, 31, 34, 30, 35, 36, 37]\n",
        "layout_b_clicks = [40, 41, 38, 42, 39, 44, 43, 41, 45, 47]\n",
        "\n",
        "def ab_test_analysis(layout_a, layout_b):\n",
        "    # Convert lists to numpy arrays for easier calculations\n",
        "    layout_a = np.array(layout_a)\n",
        "    layout_b = np.array(layout_b)\n",
        "\n",
        "    # Calculate means\n",
        "    mean_a = np.mean(layout_a)\n",
        "    mean_b = np.mean(layout_b)\n",
        "\n",
        "    # Calculate standard deviations\n",
        "    std_a = np.std(layout_a, ddof=1)\n",
        "    std_b = np.std(layout_b, ddof=1)\n",
        "\n",
        "    # Number of observations\n",
        "    n_a = len(layout_a)\n",
        "    n_b = len(layout_b)\n",
        "\n",
        "    # Calculate the t-statistic\n",
        "    pooled_std = np.sqrt(((std_a ** 2) / n_a) + ((std_b ** 2) / n_b))\n",
        "    t_stat = (mean_a - mean_b) / pooled_std\n",
        "\n",
        "    # Calculate degrees of freedom\n",
        "    df = ( (std_a ** 2 / n_a) + (std_b ** 2 / n_b) ) ** 2 / \\\n",
        "         ( ( (std_a ** 2 / n_a) ** 2 / (n_a - 1) ) + ( (std_b ** 2 / n_b) ** 2 / (n_b - 1) ) )\n",
        "\n",
        "    # Calculate the p-value\n",
        "    p_value = 2 * (1 - stats.t.cdf(abs(t_stat), df=df))\n",
        "\n",
        "    return t_stat, df, p_value\n",
        "\n",
        "# Perform the A/B test analysis\n",
        "t_stat, df, p_value = ab_test_analysis(layout_a_clicks, layout_b_clicks)\n",
        "\n",
        "print(f\"T-Statistic: {t_stat}\")\n",
        "print(f\"Degrees of Freedom: {df}\")\n",
        "print(f\"P-Value: {p_value}\")\n",
        "\n",
        "# Determine the result\n",
        "alpha = 0.05\n",
        "if p_value < alpha:\n",
        "    print(\"Reject the null hypothesis: There is a significant difference in click-through rates between the two layouts.\")\n",
        "else:\n",
        "    print(\"Fail to reject the null hypothesis: There is no significant difference in click-through rates between the two layouts.\")\n"
      ],
      "metadata": {
        "colab": {
          "base_uri": "https://localhost:8080/"
        },
        "id": "g-wGgmuofOOu",
        "outputId": "ff2bad9e-4dbc-4553-fc78-879cef8abfa1"
      },
      "execution_count": 40,
      "outputs": [
        {
          "output_type": "stream",
          "name": "stdout",
          "text": [
            "T-Statistic: -7.298102156175071\n",
            "Degrees of Freedom: 17.879871863320876\n",
            "P-Value: 9.19659607134804e-07\n",
            "Reject the null hypothesis: There is a significant difference in click-through rates between the two layouts.\n"
          ]
        }
      ]
    },
    {
      "cell_type": "markdown",
      "source": [
        "Question 16 : A pharmaceutical company wants to determine if a new drug is more effective than an existing drug in\n",
        "reducing cholesterol levels. Create a program to analyze the clinical trial data and calculate the tstatistic and p-value for the treatment effect.\n",
        "\n",
        "\n",
        "Use the following data of cholestrol level:\n",
        "\n",
        "```python\n",
        "\n",
        "existing_drug_levels = [180, 182, 175, 185, 178, 176, 172, 184, 179, 183]\n",
        "\n",
        "new_drug_levels = [170, 172, 165, 168, 175, 173, 170, 178, 172, 176]"
      ],
      "metadata": {
        "id": "rm5vBMIWfcL0"
      }
    },
    {
      "cell_type": "code",
      "source": [
        "import numpy as np\n",
        "from scipy import stats\n",
        "\n",
        "# Given data\n",
        "existing_drug_levels = [180, 182, 175, 185, 178, 176, 172, 184, 179, 183]\n",
        "new_drug_levels = [170, 172, 165, 168, 175, 173, 170, 178, 172, 176]\n",
        "\n",
        "def treatment_effect_analysis(existing, new):\n",
        "    # Convert lists to numpy arrays for easier calculations\n",
        "    existing = np.array(existing)\n",
        "    new = np.array(new)\n",
        "\n",
        "    # Calculate means\n",
        "    mean_existing = np.mean(existing)\n",
        "    mean_new = np.mean(new)\n",
        "\n",
        "    # Calculate standard deviations\n",
        "    std_existing = np.std(existing, ddof=1)\n",
        "    std_new = np.std(new, ddof=1)\n",
        "\n",
        "    # Number of observations\n",
        "    n_existing = len(existing)\n",
        "    n_new = len(new)\n",
        "\n",
        "    # Calculate the t-statistic\n",
        "    pooled_std = np.sqrt(((std_existing ** 2) / n_existing) + ((std_new ** 2) / n_new))\n",
        "    t_stat = (mean_existing - mean_new) / pooled_std\n",
        "\n",
        "    # Calculate degrees of freedom\n",
        "    df = ( (std_existing ** 2 / n_existing) + (std_new ** 2 / n_new) ) ** 2 / \\\n",
        "         ( ( (std_existing ** 2 / n_existing) ** 2 / (n_existing - 1) ) + ( (std_new ** 2 / n_new) ** 2 / (n_new - 1) ) )\n",
        "\n",
        "    # Calculate the p-value (one-tailed test)\n",
        "    p_value = stats.t.cdf(t_stat, df=df)\n",
        "\n",
        "    return t_stat, df, p_value\n",
        "\n",
        "# Perform the analysis\n",
        "t_stat, df, p_value = treatment_effect_analysis(existing_drug_levels, new_drug_levels)\n",
        "\n",
        "print(f\"T-Statistic: {t_stat}\")\n",
        "print(f\"Degrees of Freedom: {df}\")\n",
        "print(f\"P-Value: {p_value}\")\n",
        "\n",
        "# Determine the result\n",
        "alpha = 0.05\n",
        "if p_value < alpha:\n",
        "    print(\"Reject the null hypothesis: The new drug is significantly more effective in reducing cholesterol levels.\")\n",
        "else:\n",
        "    print(\"Fail to reject the null hypothesis: The new drug is not significantly more effective in reducing cholesterol levels.\")\n"
      ],
      "metadata": {
        "colab": {
          "base_uri": "https://localhost:8080/"
        },
        "id": "2UWbcdxCfa5G",
        "outputId": "93cedd87-1199-4e8d-8390-c12d358ddbca"
      },
      "execution_count": 41,
      "outputs": [
        {
          "output_type": "stream",
          "name": "stdout",
          "text": [
            "T-Statistic: 4.140480986208661\n",
            "Degrees of Freedom: 17.866770765582338\n",
            "P-Value: 0.9996885385527265\n",
            "Fail to reject the null hypothesis: The new drug is not significantly more effective in reducing cholesterol levels.\n"
          ]
        }
      ]
    },
    {
      "cell_type": "markdown",
      "source": [
        "Question 17: A school district introduces an educational intervention program to improve math scores. Write a Python\n",
        "function to analyze pre- and post-intervention test scores, calculating the t-statistic and p-value to\n",
        "determine if the intervention had a significant impact.\n",
        "\n",
        "\n",
        "Use the following data of test score:\n",
        "\n",
        "\n",
        "  ```python\n",
        "\n",
        "  pre_intervention_scores = [80, 85, 90, 75, 88, 82, 92, 78, 85, 87]\n",
        "\n",
        "  post_intervention_scores = [90, 92, 88, 92, 95, 91, 96, 93, 89, 93]"
      ],
      "metadata": {
        "id": "qdQKSpoRfuwE"
      }
    },
    {
      "cell_type": "code",
      "source": [
        "import numpy as np\n",
        "from scipy import stats\n",
        "\n",
        "# Given data\n",
        "pre_intervention_scores = [80, 85, 90, 75, 88, 82, 92, 78, 85, 87]\n",
        "post_intervention_scores = [90, 92, 88, 92, 95, 91, 96, 93, 89, 93]\n",
        "\n",
        "def intervention_effect_analysis(pre_scores, post_scores):\n",
        "    # Convert lists to numpy arrays for easier calculations\n",
        "    pre_scores = np.array(pre_scores)\n",
        "    post_scores = np.array(post_scores)\n",
        "\n",
        "    # Calculate the differences\n",
        "    differences = post_scores - pre_scores\n",
        "\n",
        "    # Calculate the mean and standard deviation of differences\n",
        "    mean_diff = np.mean(differences)\n",
        "    std_diff = np.std(differences, ddof=1)\n",
        "\n",
        "    # Number of observations\n",
        "    n = len(differences)\n",
        "\n",
        "    # Calculate the T-Statistic\n",
        "    t_stat = mean_diff / (std_diff / np.sqrt(n))\n",
        "\n",
        "    # Calculate the P-Value (two-tailed test)\n",
        "    p_value = 2 * (1 - stats.t.cdf(np.abs(t_stat), df=n-1))\n",
        "\n",
        "    return t_stat, p_value\n",
        "\n",
        "# Perform the analysis\n",
        "t_stat, p_value = intervention_effect_analysis(pre_intervention_scores, post_intervention_scores)\n",
        "\n",
        "print(f\"T-Statistic: {t_stat}\")\n",
        "print(f\"P-Value: {p_value}\")\n",
        "\n",
        "# Determine the result\n",
        "alpha = 0.05\n",
        "if p_value < alpha:\n",
        "    print(\"Reject the null hypothesis: The educational intervention significantly impacted math scores.\")\n",
        "else:\n",
        "    print(\"Fail to reject the null hypothesis: The educational intervention did not significantly impact math scores.\")\n"
      ],
      "metadata": {
        "colab": {
          "base_uri": "https://localhost:8080/"
        },
        "id": "8k0Vm2zNfoRG",
        "outputId": "20fbfe57-d21a-49ec-8527-a7bc2c109a2e"
      },
      "execution_count": 42,
      "outputs": [
        {
          "output_type": "stream",
          "name": "stdout",
          "text": [
            "T-Statistic: 4.428408839657611\n",
            "P-Value: 0.0016509548165795085\n",
            "Reject the null hypothesis: The educational intervention significantly impacted math scores.\n"
          ]
        }
      ]
    },
    {
      "cell_type": "markdown",
      "source": [
        "Question 18: ? An HR department wants to investigate if there's a gender-based salary gap within the company. Develop\n",
        "a program to analyze salary data, calculate the t-statistic, and determine if there's a statistically\n",
        "significant difference between the average salaries of male and female employees.\n",
        "\n",
        "\n",
        "Use the below code to generate synthetic data:\n",
        "\n",
        "\n",
        "```python\n",
        "\n",
        "# Generate synthetic salary data for male and female employees\n",
        "\n",
        "np.random.seed(0)  # For reproducibility\n",
        "\n",
        "male_salaries = np.random.normal(loc=50000, scale=10000, size=20)\n",
        "\n",
        "female_salaries = np.random.normal(loc=55000, scale=9000, size=20)"
      ],
      "metadata": {
        "id": "a58uISAcf8Q8"
      }
    },
    {
      "cell_type": "code",
      "source": [
        "import numpy as np\n",
        "from scipy import stats\n",
        "\n",
        "# Given data\n",
        "pre_intervention_scores = [80, 85, 90, 75, 88, 82, 92, 78, 85, 87]\n",
        "post_intervention_scores = [90, 92, 88, 92, 95, 91, 96, 93, 89, 93]\n",
        "\n",
        "def intervention_effect_analysis(pre_scores, post_scores):\n",
        "    # Convert lists to numpy arrays for easier calculations\n",
        "    pre_scores = np.array(pre_scores)\n",
        "    post_scores = np.array(post_scores)\n",
        "\n",
        "    # Calculate the differences\n",
        "    differences = post_scores - pre_scores\n",
        "\n",
        "    # Calculate the mean and standard deviation of differences\n",
        "    mean_diff = np.mean(differences)\n",
        "    std_diff = np.std(differences, ddof=1)\n",
        "\n",
        "    # Number of observations\n",
        "    n = len(differences)\n",
        "\n",
        "    # Calculate the T-Statistic\n",
        "    t_stat = mean_diff / (std_diff / np.sqrt(n))\n",
        "\n",
        "    # Calculate the P-Value (two-tailed test)\n",
        "    p_value = 2 * (1 - stats.t.cdf(np.abs(t_stat), df=n-1))\n",
        "\n",
        "    return t_stat, p_value\n",
        "\n",
        "# Perform the analysis\n",
        "t_stat, p_value = intervention_effect_analysis(pre_intervention_scores, post_intervention_scores)\n",
        "\n",
        "print(f\"T-Statistic: {t_stat}\")\n",
        "print(f\"P-Value: {p_value}\")\n",
        "\n",
        "# Determine the result\n",
        "alpha = 0.05\n",
        "if p_value < alpha:\n",
        "    print(\"Reject the null hypothesis: The educational intervention significantly impacted math scores.\")\n",
        "else:\n",
        "    print(\"Fail to reject the null hypothesis: The educational intervention did not significantly impact math scores.\")\n"
      ],
      "metadata": {
        "colab": {
          "base_uri": "https://localhost:8080/"
        },
        "id": "RG52X2pcf7HX",
        "outputId": "4229e386-41b9-4deb-fb7d-6e75152130dd"
      },
      "execution_count": 43,
      "outputs": [
        {
          "output_type": "stream",
          "name": "stdout",
          "text": [
            "T-Statistic: 4.428408839657611\n",
            "P-Value: 0.0016509548165795085\n",
            "Reject the null hypothesis: The educational intervention significantly impacted math scores.\n"
          ]
        }
      ]
    },
    {
      "cell_type": "markdown",
      "source": [
        "Question 19: A manufacturer produces two different versions of a product and wants to compare their quality scores.\n",
        "Create a Python function to analyze quality assessment data, calculate the t-statistic, and decide\n",
        "whether there's a significant difference in quality between the two versions.\n",
        "\n",
        "\n",
        "Use the following data:\n",
        "\n",
        "\n",
        "```python\n",
        "\n",
        "version1_scores = [85, 88, 82, 89, 87, 84, 90, 88, 85, 86, 91, 83, 87, 84, 89, 86, 84, 88, 85, 86, 89, 90, 87, 88, 85]\n",
        "\n",
        "version2_scores = [80, 78, 83, 81, 79, 82, 76, 80, 78, 81, 77, 82, 80, 79, 82, 79, 80, 81, 79, 82, 79, 78, 80, 81, 82]"
      ],
      "metadata": {
        "id": "W695H55jgG82"
      }
    },
    {
      "cell_type": "code",
      "source": [
        "import numpy as np\n",
        "from scipy import stats\n",
        "\n",
        "# Given data\n",
        "version1_scores = [85, 88, 82, 89, 87, 84, 90, 88, 85, 86, 91, 83, 87, 84, 89, 86, 84, 88, 85, 86, 89, 90, 87, 88, 85]\n",
        "version2_scores = [80, 78, 83, 81, 79, 82, 76, 80, 78, 81, 77, 82, 80, 79, 82, 79, 80, 81, 79, 82, 79, 78, 80, 81, 82]\n",
        "\n",
        "def quality_scores_analysis(version1_scores, version2_scores):\n",
        "    # Convert lists to numpy arrays for easier calculations\n",
        "    version1_scores = np.array(version1_scores)\n",
        "    version2_scores = np.array(version2_scores)\n",
        "\n",
        "    # Calculate means\n",
        "    mean_version1 = np.mean(version1_scores)\n",
        "    mean_version2 = np.mean(version2_scores)\n",
        "\n",
        "    # Calculate standard deviations\n",
        "    std_version1 = np.std(version1_scores, ddof=1)\n",
        "    std_version2 = np.std(version2_scores, ddof=1)\n",
        "\n",
        "    # Number of observations\n",
        "    n_version1 = len(version1_scores)\n",
        "    n_version2 = len(version2_scores)\n",
        "\n",
        "    # Calculate the t-statistic\n",
        "    pooled_std = np.sqrt(((std_version1 ** 2) / n_version1) + ((std_version2 ** 2) / n_version2))\n",
        "    t_stat = (mean_version1 - mean_version2) / pooled_std\n",
        "\n",
        "    # Calculate degrees of freedom\n",
        "    df = ((std_version1 ** 2 / n_version1) + (std_version2 ** 2 / n_version2)) ** 2 / \\\n",
        "         (((std_version1 ** 2 / n_version1) ** 2 / (n_version1 - 1)) + ((std_version2 ** 2 / n_version2) ** 2 / (n_version2 - 1)))\n",
        "\n",
        "    # Calculate the p-value (two-tailed test)\n",
        "    p_value = 2 * (1 - stats.t.cdf(np.abs(t_stat), df=df))\n",
        "\n",
        "    return t_stat, df, p_value\n",
        "\n",
        "# Perform the analysis\n",
        "t_stat, df, p_value = quality_scores_analysis(version1_scores, version2_scores)\n",
        "\n",
        "print(f\"T-Statistic: {t_stat}\")\n",
        "print(f\"Degrees of Freedom: {df}\")\n",
        "print(f\"P-Value: {p_value}\")\n",
        "\n",
        "# Determine the result\n",
        "alpha = 0.05\n",
        "if p_value < alpha:\n",
        "    print(\"Reject the null hypothesis: There is a significant difference in quality scores between the two versions.\")\n",
        "else:\n",
        "    print(\"Fail to reject the null hypothesis: There is no significant difference in quality scores between the two versions.\")\n"
      ],
      "metadata": {
        "colab": {
          "base_uri": "https://localhost:8080/"
        },
        "id": "xaL5u5QRgNNd",
        "outputId": "15496dd6-d370-426b-a8a0-6dba4b81e780"
      },
      "execution_count": 44,
      "outputs": [
        {
          "output_type": "stream",
          "name": "stdout",
          "text": [
            "T-Statistic: 11.325830417646698\n",
            "Degrees of Freedom: 44.47061033283036\n",
            "P-Value: 1.0658141036401503e-14\n",
            "Reject the null hypothesis: There is a significant difference in quality scores between the two versions.\n"
          ]
        }
      ]
    },
    {
      "cell_type": "markdown",
      "source": [
        "Question 20:  A restaurant chain collects customer satisfaction scores for two different branches. Write a program to\n",
        "analyze the scores, calculate the t-statistic, and determine if there's a statistically significant difference in\n",
        "customer satisfaction between the branches.\n",
        "\n",
        "\n",
        "Use the below data of scores:\n",
        "\n",
        "  ```python\n",
        "\n",
        "branch_a_scores = [4, 5, 3, 4, 5, 4, 5, 3, 4, 4, 5, 4, 4, 3, 4, 5, 5, 4, 3, 4, 5, 4, 3, 5, 4, 4, 5, 3, 4, 5, 4]\n",
        "\n",
        "branch_b_scores = [3, 4, 2, 3, 4, 3, 4, 2, 3, 3, 4, 3, 3, 2, 3, 4, 4, 3, 2, 3, 4, 3, 2, 4, 3, 3, 4, 2, 3, 4, 3]"
      ],
      "metadata": {
        "id": "AUDvyp-Pgb5z"
      }
    },
    {
      "cell_type": "code",
      "source": [
        "import numpy as np\n",
        "from scipy import stats\n",
        "\n",
        "# Given data\n",
        "branch_a_scores = [4, 5, 3, 4, 5, 4, 5, 3, 4, 4, 5, 4, 4, 3, 4, 5, 5, 4, 3, 4, 5, 4, 3, 5, 4, 4, 5, 3, 4, 5, 4]\n",
        "branch_b_scores = [3, 4, 2, 3, 4, 3, 4, 2, 3, 3, 4, 3, 3, 2, 3, 4, 4, 3, 2, 3, 4, 3, 2, 4, 3, 3, 4, 2, 3, 4, 3]\n",
        "\n",
        "def customer_satisfaction_analysis(branch_a_scores, branch_b_scores):\n",
        "    # Convert lists to numpy arrays for easier calculations\n",
        "    branch_a_scores = np.array(branch_a_scores)\n",
        "    branch_b_scores = np.array(branch_b_scores)\n",
        "\n",
        "    # Calculate means\n",
        "    mean_a = np.mean(branch_a_scores)\n",
        "    mean_b = np.mean(branch_b_scores)\n",
        "\n",
        "    # Calculate standard deviations\n",
        "    std_a = np.std(branch_a_scores, ddof=1)\n",
        "    std_b = np.std(branch_b_scores, ddof=1)\n",
        "\n",
        "    # Number of observations\n",
        "    n_a = len(branch_a_scores)\n",
        "    n_b = len(branch_b_scores)\n",
        "\n",
        "    # Calculate the t-statistic\n",
        "    pooled_std = np.sqrt(((std_a ** 2) / n_a) + ((std_b ** 2) / n_b))\n",
        "    t_stat = (mean_a - mean_b) / pooled_std\n",
        "\n",
        "    # Calculate degrees of freedom\n",
        "    df = ((std_a ** 2 / n_a) + (std_b ** 2 / n_b)) ** 2 / \\\n",
        "         (((std_a ** 2 / n_a) ** 2 / (n_a - 1)) + ((std_b ** 2 / n_b) ** 2 / (n_b - 1)))\n",
        "\n",
        "    # Calculate the p-value (two-tailed test)\n",
        "    p_value = 2 * (1 - stats.t.cdf(np.abs(t_stat), df=df))\n",
        "\n",
        "    return t_stat, df, p_value\n",
        "\n",
        "# Perform the analysis\n",
        "t_stat, df, p_value = customer_satisfaction_analysis(branch_a_scores, branch_b_scores)\n",
        "\n",
        "print(f\"T-Statistic: {t_stat}\")\n",
        "print(f\"Degrees of Freedom: {df}\")\n",
        "print(f\"P-Value: {p_value}\")\n",
        "\n",
        "# Determine the result\n",
        "alpha = 0.05\n",
        "if p_value < alpha:\n",
        "    print(\"Reject the null hypothesis: There is a significant difference in customer satisfaction scores between the two branches.\")\n",
        "else:\n",
        "    print(\"Fail to reject the null hypothesis: There is no significant difference in customer satisfaction scores between the two branches.\")\n"
      ],
      "metadata": {
        "colab": {
          "base_uri": "https://localhost:8080/"
        },
        "id": "WNggmPgogj8F",
        "outputId": "4d75cb95-ae79-4b5b-d2d6-a2db81179dfd"
      },
      "execution_count": 45,
      "outputs": [
        {
          "output_type": "stream",
          "name": "stdout",
          "text": [
            "T-Statistic: 5.480077554195743\n",
            "Degrees of Freedom: 60.0\n",
            "P-Value: 8.895290508625919e-07\n",
            "Reject the null hypothesis: There is a significant difference in customer satisfaction scores between the two branches.\n"
          ]
        }
      ]
    },
    {
      "cell_type": "markdown",
      "source": [
        "Question 21 : A political analyst wants to determine if there is a significant association between age groups and voter\n",
        "preferences (Candidate A or Candidate B). They collect data from a sample of 500 voters and classify\n",
        "them into different age groups and candidate preferences. Perform a Chi-Square test to determine if\n",
        "there is a significant association between age groups and voter preferences.\n",
        "\n",
        "\n",
        "Use the below code to generate data:\n",
        "\n",
        "```python\n",
        "\n",
        "np.random.seed(0)\n",
        "\n",
        "age_groups = np.random.choice([ 18 30 , 31 50 , 51+', 51+'], size=30)\n",
        "\n",
        "voter_preferences = np.random.choice(['Candidate A', 'Candidate B'], size=30)"
      ],
      "metadata": {
        "id": "214HJ8fOgnvD"
      }
    },
    {
      "cell_type": "code",
      "source": [
        "import numpy as np\n",
        "import pandas as pd\n",
        "from scipy.stats import chi2_contingency\n",
        "\n",
        "# Generate the data\n",
        "np.random.seed(0)\n",
        "age_groups = np.random.choice(['18-30', '31-50', '51+'], size=30)\n",
        "voter_preferences = np.random.choice(['Candidate A', 'Candidate B'], size=30)\n",
        "\n",
        "# Create a DataFrame\n",
        "data = pd.DataFrame({'Age Group': age_groups, 'Voter Preference': voter_preferences})\n",
        "\n",
        "# Create a contingency table\n",
        "contingency_table = pd.crosstab(data['Age Group'], data['Voter Preference'])\n",
        "\n",
        "# Perform the Chi-Square test\n",
        "chi2, p, dof, expected = chi2_contingency(contingency_table)\n",
        "\n",
        "print(\"Contingency Table:\")\n",
        "print(contingency_table)\n",
        "print(\"\\nChi-Square Statistic:\", chi2)\n",
        "print(\"P-Value:\", p)\n",
        "print(\"Degrees of Freedom:\", dof)\n",
        "print(\"Expected Frequencies:\")\n",
        "print(expected)\n",
        "\n",
        "# Determine the result\n",
        "alpha = 0.05\n",
        "if p < alpha:\n",
        "    print(\"\\nReject the null hypothesis: There is a significant association between age groups and voter preferences.\")\n",
        "else:\n",
        "    print(\"\\nFail to reject the null hypothesis: There is no significant association between age groups and voter preferences.\")\n"
      ],
      "metadata": {
        "colab": {
          "base_uri": "https://localhost:8080/"
        },
        "id": "Xbd_r4ckgvit",
        "outputId": "3e73e8db-30ab-46b0-aced-48f4464e33c7"
      },
      "execution_count": 46,
      "outputs": [
        {
          "output_type": "stream",
          "name": "stdout",
          "text": [
            "Contingency Table:\n",
            "Voter Preference  Candidate A  Candidate B\n",
            "Age Group                                 \n",
            "18-30                       4            8\n",
            "31-50                       6            5\n",
            "51+                         4            3\n",
            "\n",
            "Chi-Square Statistic: 1.4401669758812612\n",
            "P-Value: 0.48671161971286614\n",
            "Degrees of Freedom: 2\n",
            "Expected Frequencies:\n",
            "[[5.6        6.4       ]\n",
            " [5.13333333 5.86666667]\n",
            " [3.26666667 3.73333333]]\n",
            "\n",
            "Fail to reject the null hypothesis: There is no significant association between age groups and voter preferences.\n"
          ]
        }
      ]
    },
    {
      "cell_type": "markdown",
      "source": [
        "Question 22: 2. A company conducted a customer satisfaction survey to determine if there is a significant relationship\n",
        "between product satisfaction levels (Satisfied, Neutral, Dissatisfied) and the region where customers are\n",
        "located (East, West, North, South). The survey data is summarized in a contingency table. Conduct a ChiSquare test to determine if there is a significant relationship between product satisfaction levels and\n",
        "customer regions.\n",
        "\n",
        "\n",
        "Sample data:\n",
        "\n",
        "```python\n",
        "\n",
        "#Sample data: Product satisfaction levels (rows) vs. Customer regions (columns)\n",
        "\n",
        "data = np.array([[50, 30, 40, 20], [30, 40, 30, 50], [20, 30, 40, 30]])"
      ],
      "metadata": {
        "id": "Teo-pzh7g5rz"
      }
    },
    {
      "cell_type": "code",
      "source": [
        "import numpy as np\n",
        "from scipy.stats import chi2_contingency\n",
        "\n",
        "# Sample data: Product satisfaction levels (rows) vs. Customer regions (columns)\n",
        "data = np.array([[50, 30, 40, 20], [30, 40, 30, 50], [20, 30, 40, 30]])\n",
        "\n",
        "# Perform the Chi-Square test\n",
        "chi2, p, dof, expected = chi2_contingency(data)\n",
        "\n",
        "print(\"Contingency Table:\")\n",
        "print(data)\n",
        "print(\"\\nChi-Square Statistic:\", chi2)\n",
        "print(\"P-Value:\", p)\n",
        "print(\"Degrees of Freedom:\", dof)\n",
        "print(\"Expected Frequencies:\")\n",
        "print(expected)\n",
        "\n",
        "# Determine the result\n",
        "alpha = 0.05\n",
        "if p < alpha:\n",
        "    print(\"\\nReject the null hypothesis: There is a significant relationship between product satisfaction levels and customer regions.\")\n",
        "else:\n",
        "    print(\"\\nFail to reject the null hypothesis: There is no significant relationship between product satisfaction levels and customer regions.\")\n"
      ],
      "metadata": {
        "colab": {
          "base_uri": "https://localhost:8080/"
        },
        "id": "JwQgEg1sg4As",
        "outputId": "2c621df0-5a63-4b5f-9e80-b56bdcd23552"
      },
      "execution_count": 47,
      "outputs": [
        {
          "output_type": "stream",
          "name": "stdout",
          "text": [
            "Contingency Table:\n",
            "[[50 30 40 20]\n",
            " [30 40 30 50]\n",
            " [20 30 40 30]]\n",
            "\n",
            "Chi-Square Statistic: 27.777056277056275\n",
            "P-Value: 0.00010349448486004387\n",
            "Degrees of Freedom: 6\n",
            "Expected Frequencies:\n",
            "[[34.14634146 34.14634146 37.56097561 34.14634146]\n",
            " [36.58536585 36.58536585 40.24390244 36.58536585]\n",
            " [29.26829268 29.26829268 32.19512195 29.26829268]]\n",
            "\n",
            "Reject the null hypothesis: There is a significant relationship between product satisfaction levels and customer regions.\n"
          ]
        }
      ]
    },
    {
      "cell_type": "markdown",
      "source": [
        "Question 23:  A company implemented an employee training program to improve job performance (Effective, Neutral,\n",
        "Ineffective). After the training, they collected data from a sample of employees and classified them based\n",
        "on their job performance before and after the training. Perform a Chi-Square test to determine if there is a\n",
        "significant difference between job performance levels before and after the training.\n",
        "\n",
        "\n",
        "Sample data:\n",
        "\n",
        "```python\n",
        "\n",
        "# Sample data: Job performance levels before (rows) and after (columns) training\n",
        "\n",
        "data = np.array([[50, 30, 20], [30, 40, 30], [20, 30, 40]])"
      ],
      "metadata": {
        "id": "Hb2dobEdhIZa"
      }
    },
    {
      "cell_type": "code",
      "source": [
        "import numpy as np\n",
        "from scipy.stats import chi2_contingency\n",
        "\n",
        "# Sample data: Job performance levels before (rows) and after (columns) training\n",
        "data = np.array([[50, 30, 20], [30, 40, 30], [20, 30, 40]])\n",
        "\n",
        "# Perform the Chi-Square test\n",
        "chi2, p, dof, expected = chi2_contingency(data)\n",
        "\n",
        "print(\"Contingency Table:\")\n",
        "print(data)\n",
        "print(\"\\nChi-Square Statistic:\", chi2)\n",
        "print(\"P-Value:\", p)\n",
        "print(\"Degrees of Freedom:\", dof)\n",
        "print(\"Expected Frequencies:\")\n",
        "print(expected)\n",
        "\n",
        "# Determine the result\n",
        "alpha = 0.05\n",
        "if p < alpha:\n",
        "    print(\"\\nReject the null hypothesis: There is a significant difference between job performance levels before and after the training.\")\n",
        "else:\n",
        "    print(\"\\nFail to reject the null hypothesis: There is no significant difference between job performance levels before and after the training.\")\n",
        "\n"
      ],
      "metadata": {
        "colab": {
          "base_uri": "https://localhost:8080/"
        },
        "id": "nEpygmoDhGyl",
        "outputId": "b58a791e-6292-4c5c-e270-d2c0ecf53f71"
      },
      "execution_count": 48,
      "outputs": [
        {
          "output_type": "stream",
          "name": "stdout",
          "text": [
            "Contingency Table:\n",
            "[[50 30 20]\n",
            " [30 40 30]\n",
            " [20 30 40]]\n",
            "\n",
            "Chi-Square Statistic: 22.161728395061726\n",
            "P-Value: 0.00018609719479882557\n",
            "Degrees of Freedom: 4\n",
            "Expected Frequencies:\n",
            "[[34.48275862 34.48275862 31.03448276]\n",
            " [34.48275862 34.48275862 31.03448276]\n",
            " [31.03448276 31.03448276 27.93103448]]\n",
            "\n",
            "Reject the null hypothesis: There is a significant difference between job performance levels before and after the training.\n"
          ]
        }
      ]
    },
    {
      "cell_type": "markdown",
      "source": [
        "Question 24 :  A company produces three different versions of a product: Standard, Premium, and Deluxe. The\n",
        "company wants to determine if there is a significant difference in customer satisfaction scores among the\n",
        "three product versions. They conducted a survey and collected customer satisfaction scores for each\n",
        "version from a random sample of customers. Perform an ANOVA test to determine if there is a significant\n",
        "difference in customer satisfaction scores.\n",
        "\n",
        "\n",
        "  Use the following data:\n",
        "\n",
        "  ```python\n",
        "\n",
        "  # Sample data: Customer satisfaction scores for each product version\n",
        "\n",
        "  standard_scores = [80, 85, 90, 78, 88, 82, 92, 78, 85, 87]\n",
        "\n",
        "  premium_scores = [90, 92, 88, 92, 95, 91, 96, 93, 89, 93]\n",
        "\n",
        "  deluxe_scores = [95, 98, 92, 97, 96, 94, 98, 97, 92, 99]"
      ],
      "metadata": {
        "id": "DGSzTj7QhUcK"
      }
    },
    {
      "cell_type": "code",
      "source": [
        "import numpy as np\n",
        "from scipy import stats\n",
        "\n",
        "# Sample data: Customer satisfaction scores for each product version\n",
        "standard_scores = [80, 85, 90, 78, 88, 82, 92, 78, 85, 87]\n",
        "premium_scores = [90, 92, 88, 92, 95, 91, 96, 93, 89, 93]\n",
        "deluxe_scores = [95, 98, 92, 97, 96, 94, 98, 97, 92, 99]\n",
        "\n",
        "# Perform the ANOVA test\n",
        "f_stat, p_value = stats.f_oneway(standard_scores, premium_scores, deluxe_scores)\n",
        "\n",
        "print(\"ANOVA F-Statistic:\", f_stat)\n",
        "print(\"P-Value:\", p_value)\n",
        "\n",
        "# Determine the result\n",
        "alpha = 0.05\n",
        "if p_value < alpha:\n",
        "    print(\"Reject the null hypothesis: There is a significant difference in customer satisfaction scores among the three product versions.\")\n",
        "else:\n",
        "    print(\"Fail to reject the null hypothesis: There is no significant difference in customer satisfaction scores among the three product versions.\")\n"
      ],
      "metadata": {
        "colab": {
          "base_uri": "https://localhost:8080/"
        },
        "id": "O26mAKwjhTE8",
        "outputId": "bd620378-7d41-464e-ac02-78abb4b76b3b"
      },
      "execution_count": 49,
      "outputs": [
        {
          "output_type": "stream",
          "name": "stdout",
          "text": [
            "ANOVA F-Statistic: 27.03556231003039\n",
            "P-Value: 3.5786328857349003e-07\n",
            "Reject the null hypothesis: There is a significant difference in customer satisfaction scores among the three product versions.\n"
          ]
        }
      ]
    },
    {
      "cell_type": "code",
      "source": [],
      "metadata": {
        "id": "5F-OQK8IhgY1"
      },
      "execution_count": null,
      "outputs": []
    }
  ]
}